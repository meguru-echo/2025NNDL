{
 "cells": [
  {
   "cell_type": "markdown",
   "metadata": {},
   "source": [
    "## 准备数据"
   ]
  },
  {
   "cell_type": "code",
   "execution_count": 7,
   "metadata": {},
   "outputs": [],
   "source": [
    "import os\n",
    "import numpy as np\n",
    "import tensorflow as tf\n",
    "from tensorflow import keras\n",
    "from tensorflow.keras import layers, optimizers, datasets\n",
    "\n",
    "os.environ['TF_CPP_MIN_LOG_LEVEL'] = '2'  # or any {'0', '1', '2'}\n",
    "\n",
    "def mnist_dataset():\n",
    "    (x, y), (x_test, y_test) = datasets.mnist.load_data()\n",
    "    #normalize\n",
    "    x = x/255.0\n",
    "    x_test = x_test/255.0\n",
    "    \n",
    "    return (x, y), (x_test, y_test)"
   ]
  },
  {
   "cell_type": "code",
   "execution_count": 8,
   "metadata": {},
   "outputs": [
    {
     "name": "stdout",
     "output_type": "stream",
     "text": [
      "[(1, 'a'), (2, 'b'), (3, 'c'), (4, 'd')]\n"
     ]
    }
   ],
   "source": [
    "print(list(zip([1, 2, 3, 4], ['a', 'b', 'c', 'd'])))"
   ]
  },
  {
   "cell_type": "markdown",
   "metadata": {},
   "source": [
    "## 建立模型，改为pytorch版本"
   ]
  },
  {
   "cell_type": "code",
   "execution_count": 9,
   "metadata": {},
   "outputs": [],
   "source": [
    "import torch\n",
    "import torch.nn as nn\n",
    "import torch.optim as optim\n",
    "\n",
    "class myModel(nn.Module):\n",
    "    def __init__(self):\n",
    "        super(myModel, self).__init__()\n",
    "        ####################\n",
    "        '''声明模型对应的参数'''\n",
    "        ####################\n",
    "        self.fc1 = nn.Linear(28 * 28, 128)  # 输入 28*28，隐藏层 128\n",
    "        self.fc2 = nn.Linear(128, 10)       # 隐藏层 128，输出 10\n",
    "\n",
    "    def forward(self, x):\n",
    "        ####################\n",
    "        '''实现模型函数体，返回未归一化的logits'''\n",
    "        ####################\n",
    "        x = x.view(-1, 28 * 28)         # 展平输入\n",
    "        h1 = torch.tanh(self.fc1(x))    # 第一层 + tanh 激活\n",
    "        logits = self.fc2(h1)           # 第二层，输出 logits\n",
    "        return logits\n",
    "\n",
    "        \n",
    "model = myModel()\n",
    "\n",
    "optimizer = optim.Adam(model.parameters(), lr=0.001)"
   ]
  },
  {
   "cell_type": "markdown",
   "metadata": {},
   "source": [
    "## 计算 loss"
   ]
  },
  {
   "cell_type": "code",
   "execution_count": 10,
   "metadata": {},
   "outputs": [],
   "source": [
    "# @tf.function\n",
    "# def compute_loss(logits, labels):\n",
    "#     return tf.reduce_mean(\n",
    "#         tf.nn.sparse_softmax_cross_entropy_with_logits(\n",
    "#             logits=logits, labels=labels))\n",
    "\n",
    "# @tf.function\n",
    "# def compute_accuracy(logits, labels):\n",
    "#     predictions = tf.argmax(logits, axis=1)\n",
    "#     return tf.reduce_mean(tf.cast(tf.equal(predictions, labels), tf.float32))\n",
    "\n",
    "# @tf.function\n",
    "# def train_one_step(model, optimizer, x, y):\n",
    "#     with tf.GradientTape() as tape:\n",
    "#         logits = model(x)\n",
    "#         loss = compute_loss(logits, y)\n",
    "\n",
    "#     # compute gradient\n",
    "#     trainable_vars = [model.W1, model.W2, model.b1, model.b2]\n",
    "#     grads = tape.gradient(loss, trainable_vars)\n",
    "#     for g, v in zip(grads, trainable_vars):\n",
    "#         v.assign_sub(0.01*g)\n",
    "\n",
    "#     accuracy = compute_accuracy(logits, y)\n",
    "\n",
    "#     # loss and accuracy is scalar tensor\n",
    "#     return loss, accuracy\n",
    "\n",
    "# @tf.function\n",
    "# def test(model, x, y):\n",
    "#     logits = model(x)\n",
    "#     loss = compute_loss(logits, y)\n",
    "#     accuracy = compute_accuracy(logits, y)\n",
    "#     return loss, accuracy"
   ]
  },
  {
   "cell_type": "code",
   "execution_count": 11,
   "metadata": {},
   "outputs": [],
   "source": [
    "# 计算交叉熵损失\n",
    "def compute_loss(logits, labels):\n",
    "    loss_fn = nn.CrossEntropyLoss()\n",
    "    return loss_fn(logits, labels)\n",
    "\n",
    "# 计算准确率\n",
    "def compute_accuracy(logits, labels):\n",
    "    predictions = torch.argmax(logits, dim=1)\n",
    "    return (predictions == labels).float().mean()\n",
    "\n",
    "# 训练一步\n",
    "def train_one_step(model, optimizer, x, y):\n",
    "    model.train()  # 设为训练模式\n",
    "    optimizer.zero_grad()  # 清除梯度\n",
    "\n",
    "    logits = model(x)  # 前向传播\n",
    "    loss = compute_loss(logits, y)  # 计算损失\n",
    "\n",
    "    loss.backward()  # 反向传播计算梯度\n",
    "    optimizer.step()  # 更新参数\n",
    "\n",
    "    accuracy = compute_accuracy(logits, y)  # 计算准确率\n",
    "\n",
    "    return loss.item(), accuracy.item()  # 返回标量值\n",
    "\n",
    "# 测试\n",
    "def test(model, x, y):\n",
    "    model.eval()  # 设为评估模式\n",
    "    with torch.no_grad():  # 禁用梯度计算\n",
    "        logits = model(x)\n",
    "        loss = compute_loss(logits, y)\n",
    "        accuracy = compute_accuracy(logits, y)\n",
    "    \n",
    "    return loss.item(), accuracy.item()"
   ]
  },
  {
   "cell_type": "markdown",
   "metadata": {},
   "source": [
    "## 实际训练"
   ]
  },
  {
   "cell_type": "code",
   "execution_count": 12,
   "metadata": {},
   "outputs": [],
   "source": [
    "# train_data, test_data = mnist_dataset()\n",
    "# for epoch in range(50):\n",
    "#     loss, accuracy = train_one_step(model, optimizer, \n",
    "#                                     tf.constant(train_data[0], dtype=tf.float32), \n",
    "#                                     tf.constant(train_data[1], dtype=tf.int64))\n",
    "#     print('epoch', epoch, ': loss', loss.numpy(), '; accuracy', accuracy.numpy())\n",
    "# loss, accuracy = test(model, \n",
    "#                       tf.constant(test_data[0], dtype=tf.float32), \n",
    "#                       tf.constant(test_data[1], dtype=tf.int64))\n",
    "\n",
    "# print('test loss', loss.numpy(), '; accuracy', accuracy.numpy())"
   ]
  },
  {
   "cell_type": "code",
   "execution_count": 13,
   "metadata": {},
   "outputs": [
    {
     "name": "stdout",
     "output_type": "stream",
     "text": [
      "Epoch 0: Loss 2.3163; Accuracy 0.0684\n",
      "Epoch 1: Loss 2.2107; Accuracy 0.2708\n",
      "Epoch 2: Loss 2.1118; Accuracy 0.5028\n",
      "Epoch 3: Loss 2.0179; Accuracy 0.6046\n",
      "Epoch 4: Loss 1.9282; Accuracy 0.6455\n",
      "Epoch 5: Loss 1.8418; Accuracy 0.6713\n",
      "Epoch 6: Loss 1.7584; Accuracy 0.6917\n",
      "Epoch 7: Loss 1.6781; Accuracy 0.7091\n",
      "Epoch 8: Loss 1.6010; Accuracy 0.7243\n",
      "Epoch 9: Loss 1.5273; Accuracy 0.7377\n",
      "Epoch 10: Loss 1.4571; Accuracy 0.7495\n",
      "Epoch 11: Loss 1.3906; Accuracy 0.7607\n",
      "Epoch 12: Loss 1.3279; Accuracy 0.7702\n",
      "Epoch 13: Loss 1.2688; Accuracy 0.7783\n",
      "Epoch 14: Loss 1.2134; Accuracy 0.7850\n",
      "Epoch 15: Loss 1.1614; Accuracy 0.7915\n",
      "Epoch 16: Loss 1.1127; Accuracy 0.7970\n",
      "Epoch 17: Loss 1.0670; Accuracy 0.8017\n",
      "Epoch 18: Loss 1.0243; Accuracy 0.8059\n",
      "Epoch 19: Loss 0.9843; Accuracy 0.8102\n",
      "Epoch 20: Loss 0.9469; Accuracy 0.8145\n",
      "Epoch 21: Loss 0.9119; Accuracy 0.8187\n",
      "Epoch 22: Loss 0.8792; Accuracy 0.8223\n",
      "Epoch 23: Loss 0.8486; Accuracy 0.8260\n",
      "Epoch 24: Loss 0.8200; Accuracy 0.8302\n",
      "Epoch 25: Loss 0.7932; Accuracy 0.8337\n",
      "Epoch 26: Loss 0.7681; Accuracy 0.8376\n",
      "Epoch 27: Loss 0.7445; Accuracy 0.8408\n",
      "Epoch 28: Loss 0.7224; Accuracy 0.8441\n",
      "Epoch 29: Loss 0.7016; Accuracy 0.8470\n",
      "Epoch 30: Loss 0.6821; Accuracy 0.8496\n",
      "Epoch 31: Loss 0.6638; Accuracy 0.8523\n",
      "Epoch 32: Loss 0.6465; Accuracy 0.8550\n",
      "Epoch 33: Loss 0.6303; Accuracy 0.8573\n",
      "Epoch 34: Loss 0.6150; Accuracy 0.8596\n",
      "Epoch 35: Loss 0.6005; Accuracy 0.8615\n",
      "Epoch 36: Loss 0.5869; Accuracy 0.8635\n",
      "Epoch 37: Loss 0.5741; Accuracy 0.8652\n",
      "Epoch 38: Loss 0.5619; Accuracy 0.8675\n",
      "Epoch 39: Loss 0.5504; Accuracy 0.8690\n",
      "Epoch 40: Loss 0.5396; Accuracy 0.8706\n",
      "Epoch 41: Loss 0.5293; Accuracy 0.8722\n",
      "Epoch 42: Loss 0.5195; Accuracy 0.8739\n",
      "Epoch 43: Loss 0.5102; Accuracy 0.8757\n",
      "Epoch 44: Loss 0.5015; Accuracy 0.8768\n",
      "Epoch 45: Loss 0.4931; Accuracy 0.8783\n",
      "Epoch 46: Loss 0.4852; Accuracy 0.8797\n",
      "Epoch 47: Loss 0.4776; Accuracy 0.8814\n",
      "Epoch 48: Loss 0.4704; Accuracy 0.8827\n",
      "Epoch 49: Loss 0.4635; Accuracy 0.8841\n",
      "Test Loss: 0.4427; Accuracy: 0.8926\n"
     ]
    }
   ],
   "source": [
    "# 训练循环\n",
    "train_data, test_data = mnist_dataset()  # 获取 MNIST 数据集\n",
    "\n",
    "for epoch in range(50):\n",
    "    loss, accuracy = train_one_step(\n",
    "        model, optimizer,\n",
    "        torch.tensor(train_data[0], dtype=torch.float32),\n",
    "        torch.tensor(train_data[1], dtype=torch.int64)\n",
    "    )\n",
    "    print(f'Epoch {epoch}: Loss {loss:.4f}; Accuracy {accuracy:.4f}')\n",
    "\n",
    "# 测试阶段\n",
    "loss, accuracy = test(\n",
    "    model,\n",
    "    torch.tensor(test_data[0], dtype=torch.float32),\n",
    "    torch.tensor(test_data[1], dtype=torch.int64)\n",
    ")\n",
    "\n",
    "print(f'Test Loss: {loss:.4f}; Accuracy: {accuracy:.4f}')\n"
   ]
  }
 ],
 "metadata": {
  "kernelspec": {
   "display_name": "Python 3",
   "language": "python",
   "name": "python3"
  },
  "language_info": {
   "codemirror_mode": {
    "name": "ipython",
    "version": 3
   },
   "file_extension": ".py",
   "mimetype": "text/x-python",
   "name": "python",
   "nbconvert_exporter": "python",
   "pygments_lexer": "ipython3",
   "version": "3.11.5"
  }
 },
 "nbformat": 4,
 "nbformat_minor": 2
}
